{
 "cells": [
  {
   "cell_type": "markdown",
   "id": "7228872e",
   "metadata": {},
   "source": [
    "### Install the libraries"
   ]
  },
  {
   "cell_type": "code",
   "execution_count": 1,
   "id": "8dc3c735",
   "metadata": {},
   "outputs": [
    {
     "name": "stdout",
     "output_type": "stream",
     "text": [
      "Requirement already satisfied: langchain in c:\\my_data_drive\\exl_training\\ma_env\\lib\\site-packages (1.0.2)\n",
      "Requirement already satisfied: langchain-core in c:\\my_data_drive\\exl_training\\ma_env\\lib\\site-packages (1.0.1)\n",
      "Requirement already satisfied: langchain-openai in c:\\my_data_drive\\exl_training\\ma_env\\lib\\site-packages (1.0.1)\n",
      "Requirement already satisfied: langgraph in c:\\my_data_drive\\exl_training\\ma_env\\lib\\site-packages (1.0.1)\n",
      "Requirement already satisfied: python-dotenv in c:\\my_data_drive\\exl_training\\ma_env\\lib\\site-packages (1.1.1)\n",
      "Collecting python-dotenv\n",
      "  Downloading python_dotenv-1.2.1-py3-none-any.whl.metadata (25 kB)\n",
      "Requirement already satisfied: openai in c:\\my_data_drive\\exl_training\\ma_env\\lib\\site-packages (1.109.1)\n",
      "Collecting openai\n",
      "  Using cached openai-2.6.1-py3-none-any.whl.metadata (29 kB)\n",
      "Requirement already satisfied: pandas in c:\\my_data_drive\\exl_training\\ma_env\\lib\\site-packages (2.2.3)\n",
      "Collecting pandas\n",
      "  Using cached pandas-2.3.3-cp313-cp313-win_amd64.whl.metadata (19 kB)\n",
      "Requirement already satisfied: llama-index in c:\\my_data_drive\\exl_training\\ma_env\\lib\\site-packages (0.14.6)\n",
      "Requirement already satisfied: llama-index-vector-stores-pinecone in c:\\my_data_drive\\exl_training\\ma_env\\lib\\site-packages (0.7.1)\n",
      "Requirement already satisfied: llama-index-core in c:\\my_data_drive\\exl_training\\ma_env\\lib\\site-packages (0.14.6)\n",
      "Requirement already satisfied: llama-index-embeddings-huggingface in c:\\my_data_drive\\exl_training\\ma_env\\lib\\site-packages (0.6.1)\n",
      "Requirement already satisfied: llama-index-llms-groq in c:\\my_data_drive\\exl_training\\ma_env\\lib\\site-packages (0.4.1)\n",
      "Requirement already satisfied: pydantic<3.0.0,>=2.7.4 in c:\\my_data_drive\\exl_training\\ma_env\\lib\\site-packages (from langchain) (2.12.3)\n",
      "Requirement already satisfied: jsonpatch<2.0.0,>=1.33.0 in c:\\my_data_drive\\exl_training\\ma_env\\lib\\site-packages (from langchain-core) (1.33)\n",
      "Requirement already satisfied: langsmith<1.0.0,>=0.3.45 in c:\\my_data_drive\\exl_training\\ma_env\\lib\\site-packages (from langchain-core) (0.4.38)\n",
      "Requirement already satisfied: packaging<26.0.0,>=23.2.0 in c:\\my_data_drive\\exl_training\\ma_env\\lib\\site-packages (from langchain-core) (24.2)\n",
      "Requirement already satisfied: pyyaml<7.0.0,>=5.3.0 in c:\\my_data_drive\\exl_training\\ma_env\\lib\\site-packages (from langchain-core) (6.0.3)\n",
      "Requirement already satisfied: tenacity!=8.4.0,<10.0.0,>=8.1.0 in c:\\my_data_drive\\exl_training\\ma_env\\lib\\site-packages (from langchain-core) (9.1.2)\n",
      "Requirement already satisfied: typing-extensions<5.0.0,>=4.7.0 in c:\\my_data_drive\\exl_training\\ma_env\\lib\\site-packages (from langchain-core) (4.15.0)\n",
      "Requirement already satisfied: langgraph-checkpoint<4.0.0,>=2.1.0 in c:\\my_data_drive\\exl_training\\ma_env\\lib\\site-packages (from langgraph) (3.0.0)\n",
      "Requirement already satisfied: langgraph-prebuilt<1.1.0,>=1.0.0 in c:\\my_data_drive\\exl_training\\ma_env\\lib\\site-packages (from langgraph) (1.0.1)\n",
      "Requirement already satisfied: langgraph-sdk<0.3.0,>=0.2.2 in c:\\my_data_drive\\exl_training\\ma_env\\lib\\site-packages (from langgraph) (0.2.9)\n",
      "Requirement already satisfied: xxhash>=3.5.0 in c:\\my_data_drive\\exl_training\\ma_env\\lib\\site-packages (from langgraph) (3.6.0)\n",
      "Requirement already satisfied: jsonpointer>=1.9 in c:\\my_data_drive\\exl_training\\ma_env\\lib\\site-packages (from jsonpatch<2.0.0,>=1.33.0->langchain-core) (3.0.0)\n",
      "Requirement already satisfied: ormsgpack>=1.10.0 in c:\\my_data_drive\\exl_training\\ma_env\\lib\\site-packages (from langgraph-checkpoint<4.0.0,>=2.1.0->langgraph) (1.11.0)\n",
      "Requirement already satisfied: httpx>=0.25.2 in c:\\my_data_drive\\exl_training\\ma_env\\lib\\site-packages (from langgraph-sdk<0.3.0,>=0.2.2->langgraph) (0.28.1)\n",
      "Requirement already satisfied: orjson>=3.10.1 in c:\\my_data_drive\\exl_training\\ma_env\\lib\\site-packages (from langgraph-sdk<0.3.0,>=0.2.2->langgraph) (3.11.4)\n",
      "Requirement already satisfied: requests-toolbelt>=1.0.0 in c:\\my_data_drive\\exl_training\\ma_env\\lib\\site-packages (from langsmith<1.0.0,>=0.3.45->langchain-core) (1.0.0)\n",
      "Requirement already satisfied: requests>=2.0.0 in c:\\my_data_drive\\exl_training\\ma_env\\lib\\site-packages (from langsmith<1.0.0,>=0.3.45->langchain-core) (2.32.5)\n",
      "Requirement already satisfied: zstandard>=0.23.0 in c:\\my_data_drive\\exl_training\\ma_env\\lib\\site-packages (from langsmith<1.0.0,>=0.3.45->langchain-core) (0.25.0)\n",
      "Requirement already satisfied: anyio in c:\\my_data_drive\\exl_training\\ma_env\\lib\\site-packages (from httpx>=0.25.2->langgraph-sdk<0.3.0,>=0.2.2->langgraph) (4.11.0)\n",
      "Requirement already satisfied: certifi in c:\\my_data_drive\\exl_training\\ma_env\\lib\\site-packages (from httpx>=0.25.2->langgraph-sdk<0.3.0,>=0.2.2->langgraph) (2025.10.5)\n",
      "Requirement already satisfied: httpcore==1.* in c:\\my_data_drive\\exl_training\\ma_env\\lib\\site-packages (from httpx>=0.25.2->langgraph-sdk<0.3.0,>=0.2.2->langgraph) (1.0.9)\n",
      "Requirement already satisfied: idna in c:\\my_data_drive\\exl_training\\ma_env\\lib\\site-packages (from httpx>=0.25.2->langgraph-sdk<0.3.0,>=0.2.2->langgraph) (3.11)\n",
      "Requirement already satisfied: h11>=0.16 in c:\\my_data_drive\\exl_training\\ma_env\\lib\\site-packages (from httpcore==1.*->httpx>=0.25.2->langgraph-sdk<0.3.0,>=0.2.2->langgraph) (0.16.0)\n",
      "Requirement already satisfied: annotated-types>=0.6.0 in c:\\my_data_drive\\exl_training\\ma_env\\lib\\site-packages (from pydantic<3.0.0,>=2.7.4->langchain) (0.7.0)\n",
      "Requirement already satisfied: pydantic-core==2.41.4 in c:\\my_data_drive\\exl_training\\ma_env\\lib\\site-packages (from pydantic<3.0.0,>=2.7.4->langchain) (2.41.4)\n",
      "Requirement already satisfied: typing-inspection>=0.4.2 in c:\\my_data_drive\\exl_training\\ma_env\\lib\\site-packages (from pydantic<3.0.0,>=2.7.4->langchain) (0.4.2)\n",
      "Requirement already satisfied: tiktoken<1.0.0,>=0.7.0 in c:\\my_data_drive\\exl_training\\ma_env\\lib\\site-packages (from langchain-openai) (0.12.0)\n",
      "Requirement already satisfied: distro<2,>=1.7.0 in c:\\my_data_drive\\exl_training\\ma_env\\lib\\site-packages (from openai) (1.9.0)\n",
      "Requirement already satisfied: jiter<1,>=0.10.0 in c:\\my_data_drive\\exl_training\\ma_env\\lib\\site-packages (from openai) (0.11.1)\n",
      "Requirement already satisfied: sniffio in c:\\my_data_drive\\exl_training\\ma_env\\lib\\site-packages (from openai) (1.3.1)\n",
      "Requirement already satisfied: tqdm>4 in c:\\my_data_drive\\exl_training\\ma_env\\lib\\site-packages (from openai) (4.67.1)\n",
      "Requirement already satisfied: regex>=2022.1.18 in c:\\my_data_drive\\exl_training\\ma_env\\lib\\site-packages (from tiktoken<1.0.0,>=0.7.0->langchain-openai) (2025.10.23)\n",
      "Requirement already satisfied: numpy>=1.26.0 in c:\\my_data_drive\\exl_training\\ma_env\\lib\\site-packages (from pandas) (2.3.4)\n",
      "Requirement already satisfied: python-dateutil>=2.8.2 in c:\\my_data_drive\\exl_training\\ma_env\\lib\\site-packages (from pandas) (2.9.0.post0)\n",
      "Requirement already satisfied: pytz>=2020.1 in c:\\my_data_drive\\exl_training\\ma_env\\lib\\site-packages (from pandas) (2025.2)\n",
      "Requirement already satisfied: tzdata>=2022.7 in c:\\my_data_drive\\exl_training\\ma_env\\lib\\site-packages (from pandas) (2025.2)\n",
      "Requirement already satisfied: llama-index-cli<0.6,>=0.5.0 in c:\\my_data_drive\\exl_training\\ma_env\\lib\\site-packages (from llama-index) (0.5.3)\n",
      "Requirement already satisfied: llama-index-embeddings-openai<0.6,>=0.5.0 in c:\\my_data_drive\\exl_training\\ma_env\\lib\\site-packages (from llama-index) (0.5.1)\n",
      "Requirement already satisfied: llama-index-indices-managed-llama-cloud>=0.4.0 in c:\\my_data_drive\\exl_training\\ma_env\\lib\\site-packages (from llama-index) (0.9.4)\n",
      "Requirement already satisfied: llama-index-llms-openai<0.7,>=0.6.0 in c:\\my_data_drive\\exl_training\\ma_env\\lib\\site-packages (from llama-index) (0.6.5)\n",
      "Requirement already satisfied: llama-index-readers-file<0.6,>=0.5.0 in c:\\my_data_drive\\exl_training\\ma_env\\lib\\site-packages (from llama-index) (0.5.4)\n",
      "Requirement already satisfied: llama-index-readers-llama-parse>=0.4.0 in c:\\my_data_drive\\exl_training\\ma_env\\lib\\site-packages (from llama-index) (0.5.1)\n",
      "Requirement already satisfied: nltk>3.8.1 in c:\\my_data_drive\\exl_training\\ma_env\\lib\\site-packages (from llama-index) (3.9.2)\n",
      "Requirement already satisfied: aiohttp<4,>=3.8.6 in c:\\my_data_drive\\exl_training\\ma_env\\lib\\site-packages (from llama-index-core) (3.13.1)\n",
      "Requirement already satisfied: aiosqlite in c:\\my_data_drive\\exl_training\\ma_env\\lib\\site-packages (from llama-index-core) (0.21.0)\n",
      "Requirement already satisfied: banks<3,>=2.2.0 in c:\\my_data_drive\\exl_training\\ma_env\\lib\\site-packages (from llama-index-core) (2.2.0)\n",
      "Requirement already satisfied: dataclasses-json in c:\\my_data_drive\\exl_training\\ma_env\\lib\\site-packages (from llama-index-core) (0.6.7)\n",
      "Requirement already satisfied: deprecated>=1.2.9.3 in c:\\my_data_drive\\exl_training\\ma_env\\lib\\site-packages (from llama-index-core) (1.2.18)\n",
      "Requirement already satisfied: dirtyjson<2,>=1.0.8 in c:\\my_data_drive\\exl_training\\ma_env\\lib\\site-packages (from llama-index-core) (1.0.8)\n",
      "Requirement already satisfied: filetype<2,>=1.2.0 in c:\\my_data_drive\\exl_training\\ma_env\\lib\\site-packages (from llama-index-core) (1.2.0)\n",
      "Requirement already satisfied: fsspec>=2023.5.0 in c:\\my_data_drive\\exl_training\\ma_env\\lib\\site-packages (from llama-index-core) (2025.9.0)\n",
      "Requirement already satisfied: llama-index-workflows<3,>=2 in c:\\my_data_drive\\exl_training\\ma_env\\lib\\site-packages (from llama-index-core) (2.8.3)\n",
      "Requirement already satisfied: nest-asyncio<2,>=1.5.8 in c:\\my_data_drive\\exl_training\\ma_env\\lib\\site-packages (from llama-index-core) (1.6.0)\n",
      "Requirement already satisfied: networkx>=3.0 in c:\\my_data_drive\\exl_training\\ma_env\\lib\\site-packages (from llama-index-core) (3.5)\n",
      "Requirement already satisfied: pillow>=9.0.0 in c:\\my_data_drive\\exl_training\\ma_env\\lib\\site-packages (from llama-index-core) (12.0.0)\n",
      "Requirement already satisfied: platformdirs in c:\\my_data_drive\\exl_training\\ma_env\\lib\\site-packages (from llama-index-core) (4.5.0)\n",
      "Requirement already satisfied: setuptools>=80.9.0 in c:\\my_data_drive\\exl_training\\ma_env\\lib\\site-packages (from llama-index-core) (80.9.0)\n",
      "Requirement already satisfied: sqlalchemy>=1.4.49 in c:\\my_data_drive\\exl_training\\ma_env\\lib\\site-packages (from sqlalchemy[asyncio]>=1.4.49->llama-index-core) (2.0.44)\n",
      "Requirement already satisfied: typing-inspect>=0.8.0 in c:\\my_data_drive\\exl_training\\ma_env\\lib\\site-packages (from llama-index-core) (0.9.0)\n",
      "Requirement already satisfied: wrapt in c:\\my_data_drive\\exl_training\\ma_env\\lib\\site-packages (from llama-index-core) (1.17.3)\n",
      "Requirement already satisfied: aiohappyeyeballs>=2.5.0 in c:\\my_data_drive\\exl_training\\ma_env\\lib\\site-packages (from aiohttp<4,>=3.8.6->llama-index-core) (2.6.1)\n",
      "Requirement already satisfied: aiosignal>=1.4.0 in c:\\my_data_drive\\exl_training\\ma_env\\lib\\site-packages (from aiohttp<4,>=3.8.6->llama-index-core) (1.4.0)\n",
      "Requirement already satisfied: attrs>=17.3.0 in c:\\my_data_drive\\exl_training\\ma_env\\lib\\site-packages (from aiohttp<4,>=3.8.6->llama-index-core) (25.4.0)\n",
      "Requirement already satisfied: frozenlist>=1.1.1 in c:\\my_data_drive\\exl_training\\ma_env\\lib\\site-packages (from aiohttp<4,>=3.8.6->llama-index-core) (1.8.0)\n",
      "Requirement already satisfied: multidict<7.0,>=4.5 in c:\\my_data_drive\\exl_training\\ma_env\\lib\\site-packages (from aiohttp<4,>=3.8.6->llama-index-core) (6.7.0)\n",
      "Requirement already satisfied: propcache>=0.2.0 in c:\\my_data_drive\\exl_training\\ma_env\\lib\\site-packages (from aiohttp<4,>=3.8.6->llama-index-core) (0.4.1)\n",
      "Requirement already satisfied: yarl<2.0,>=1.17.0 in c:\\my_data_drive\\exl_training\\ma_env\\lib\\site-packages (from aiohttp<4,>=3.8.6->llama-index-core) (1.22.0)\n",
      "Requirement already satisfied: griffe in c:\\my_data_drive\\exl_training\\ma_env\\lib\\site-packages (from banks<3,>=2.2.0->llama-index-core) (1.14.0)\n",
      "Requirement already satisfied: jinja2 in c:\\my_data_drive\\exl_training\\ma_env\\lib\\site-packages (from banks<3,>=2.2.0->llama-index-core) (3.1.6)\n",
      "Requirement already satisfied: beautifulsoup4<5,>=4.12.3 in c:\\my_data_drive\\exl_training\\ma_env\\lib\\site-packages (from llama-index-readers-file<0.6,>=0.5.0->llama-index) (4.14.2)\n",
      "Requirement already satisfied: defusedxml>=0.7.1 in c:\\my_data_drive\\exl_training\\ma_env\\lib\\site-packages (from llama-index-readers-file<0.6,>=0.5.0->llama-index) (0.7.1)\n",
      "Requirement already satisfied: pypdf<7,>=5.1.0 in c:\\my_data_drive\\exl_training\\ma_env\\lib\\site-packages (from llama-index-readers-file<0.6,>=0.5.0->llama-index) (6.1.3)\n",
      "Requirement already satisfied: striprtf<0.0.27,>=0.0.26 in c:\\my_data_drive\\exl_training\\ma_env\\lib\\site-packages (from llama-index-readers-file<0.6,>=0.5.0->llama-index) (0.0.26)\n",
      "Requirement already satisfied: soupsieve>1.2 in c:\\my_data_drive\\exl_training\\ma_env\\lib\\site-packages (from beautifulsoup4<5,>=4.12.3->llama-index-readers-file<0.6,>=0.5.0->llama-index) (2.8)\n",
      "Requirement already satisfied: llama-index-instrumentation>=0.1.0 in c:\\my_data_drive\\exl_training\\ma_env\\lib\\site-packages (from llama-index-workflows<3,>=2->llama-index-core) (0.4.2)\n",
      "Requirement already satisfied: colorama in c:\\my_data_drive\\exl_training\\ma_env\\lib\\site-packages (from tqdm>4->openai) (0.4.6)\n",
      "Requirement already satisfied: pinecone<8.0.0,>=7.0.0 in c:\\my_data_drive\\exl_training\\ma_env\\lib\\site-packages (from llama-index-vector-stores-pinecone) (7.3.0)\n",
      "Requirement already satisfied: pinecone-plugin-assistant<2.0.0,>=1.6.0 in c:\\my_data_drive\\exl_training\\ma_env\\lib\\site-packages (from pinecone<8.0.0,>=7.0.0->llama-index-vector-stores-pinecone) (1.8.0)\n",
      "Requirement already satisfied: pinecone-plugin-interface<0.0.8,>=0.0.7 in c:\\my_data_drive\\exl_training\\ma_env\\lib\\site-packages (from pinecone<8.0.0,>=7.0.0->llama-index-vector-stores-pinecone) (0.0.7)\n",
      "Requirement already satisfied: urllib3>=1.26.5 in c:\\my_data_drive\\exl_training\\ma_env\\lib\\site-packages (from pinecone<8.0.0,>=7.0.0->llama-index-vector-stores-pinecone) (2.5.0)\n",
      "Requirement already satisfied: charset_normalizer<4,>=2 in c:\\my_data_drive\\exl_training\\ma_env\\lib\\site-packages (from requests>=2.0.0->langsmith<1.0.0,>=0.3.45->langchain-core) (3.4.4)\n",
      "Requirement already satisfied: huggingface-hub>=0.19.0 in c:\\my_data_drive\\exl_training\\ma_env\\lib\\site-packages (from huggingface-hub[inference]>=0.19.0->llama-index-embeddings-huggingface) (0.36.0)\n",
      "Requirement already satisfied: sentence-transformers>=2.6.1 in c:\\my_data_drive\\exl_training\\ma_env\\lib\\site-packages (from llama-index-embeddings-huggingface) (5.1.2)\n",
      "Requirement already satisfied: llama-index-llms-openai-like<0.6,>=0.5.0 in c:\\my_data_drive\\exl_training\\ma_env\\lib\\site-packages (from llama-index-llms-groq) (0.5.3)\n",
      "Requirement already satisfied: transformers<5,>=4.37.0 in c:\\my_data_drive\\exl_training\\ma_env\\lib\\site-packages (from llama-index-llms-openai-like<0.6,>=0.5.0->llama-index-llms-groq) (4.57.1)\n",
      "Requirement already satisfied: filelock in c:\\my_data_drive\\exl_training\\ma_env\\lib\\site-packages (from transformers<5,>=4.37.0->llama-index-llms-openai-like<0.6,>=0.5.0->llama-index-llms-groq) (3.20.0)\n",
      "Requirement already satisfied: tokenizers<=0.23.0,>=0.22.0 in c:\\my_data_drive\\exl_training\\ma_env\\lib\\site-packages (from transformers<5,>=4.37.0->llama-index-llms-openai-like<0.6,>=0.5.0->llama-index-llms-groq) (0.22.1)\n",
      "Requirement already satisfied: safetensors>=0.4.3 in c:\\my_data_drive\\exl_training\\ma_env\\lib\\site-packages (from transformers<5,>=4.37.0->llama-index-llms-openai-like<0.6,>=0.5.0->llama-index-llms-groq) (0.6.2)\n",
      "Requirement already satisfied: llama-cloud==0.1.35 in c:\\my_data_drive\\exl_training\\ma_env\\lib\\site-packages (from llama-index-indices-managed-llama-cloud>=0.4.0->llama-index) (0.1.35)\n",
      "Requirement already satisfied: llama-parse>=0.5.0 in c:\\my_data_drive\\exl_training\\ma_env\\lib\\site-packages (from llama-index-readers-llama-parse>=0.4.0->llama-index) (0.6.54)\n",
      "Requirement already satisfied: llama-cloud-services>=0.6.54 in c:\\my_data_drive\\exl_training\\ma_env\\lib\\site-packages (from llama-parse>=0.5.0->llama-index-readers-llama-parse>=0.4.0->llama-index) (0.6.54)\n",
      "Requirement already satisfied: click<9,>=8.1.7 in c:\\my_data_drive\\exl_training\\ma_env\\lib\\site-packages (from llama-cloud-services>=0.6.54->llama-parse>=0.5.0->llama-index-readers-llama-parse>=0.4.0->llama-index) (8.3.0)\n",
      "Requirement already satisfied: joblib in c:\\my_data_drive\\exl_training\\ma_env\\lib\\site-packages (from nltk>3.8.1->llama-index) (1.5.2)\n",
      "Requirement already satisfied: six>=1.5 in c:\\my_data_drive\\exl_training\\ma_env\\lib\\site-packages (from python-dateutil>=2.8.2->pandas) (1.17.0)\n",
      "Requirement already satisfied: torch>=1.11.0 in c:\\my_data_drive\\exl_training\\ma_env\\lib\\site-packages (from sentence-transformers>=2.6.1->llama-index-embeddings-huggingface) (2.9.0)\n",
      "Requirement already satisfied: scikit-learn in c:\\my_data_drive\\exl_training\\ma_env\\lib\\site-packages (from sentence-transformers>=2.6.1->llama-index-embeddings-huggingface) (1.7.2)\n",
      "Requirement already satisfied: scipy in c:\\my_data_drive\\exl_training\\ma_env\\lib\\site-packages (from sentence-transformers>=2.6.1->llama-index-embeddings-huggingface) (1.16.2)\n",
      "Requirement already satisfied: greenlet>=1 in c:\\my_data_drive\\exl_training\\ma_env\\lib\\site-packages (from sqlalchemy>=1.4.49->sqlalchemy[asyncio]>=1.4.49->llama-index-core) (3.2.4)\n",
      "Requirement already satisfied: sympy>=1.13.3 in c:\\my_data_drive\\exl_training\\ma_env\\lib\\site-packages (from torch>=1.11.0->sentence-transformers>=2.6.1->llama-index-embeddings-huggingface) (1.14.0)\n",
      "Requirement already satisfied: mpmath<1.4,>=1.1.0 in c:\\my_data_drive\\exl_training\\ma_env\\lib\\site-packages (from sympy>=1.13.3->torch>=1.11.0->sentence-transformers>=2.6.1->llama-index-embeddings-huggingface) (1.3.0)\n",
      "Requirement already satisfied: mypy-extensions>=0.3.0 in c:\\my_data_drive\\exl_training\\ma_env\\lib\\site-packages (from typing-inspect>=0.8.0->llama-index-core) (1.1.0)\n",
      "Requirement already satisfied: marshmallow<4.0.0,>=3.18.0 in c:\\my_data_drive\\exl_training\\ma_env\\lib\\site-packages (from dataclasses-json->llama-index-core) (3.26.1)\n",
      "Requirement already satisfied: MarkupSafe>=2.0 in c:\\my_data_drive\\exl_training\\ma_env\\lib\\site-packages (from jinja2->banks<3,>=2.2.0->llama-index-core) (3.0.3)\n",
      "Requirement already satisfied: threadpoolctl>=3.1.0 in c:\\my_data_drive\\exl_training\\ma_env\\lib\\site-packages (from scikit-learn->sentence-transformers>=2.6.1->llama-index-embeddings-huggingface) (3.6.0)\n",
      "Downloading python_dotenv-1.2.1-py3-none-any.whl (21 kB)\n",
      "Installing collected packages: python-dotenv\n",
      "  Attempting uninstall: python-dotenv\n",
      "    Found existing installation: python-dotenv 1.1.1\n",
      "    Uninstalling python-dotenv-1.1.1:\n",
      "      Successfully uninstalled python-dotenv-1.1.1\n",
      "Successfully installed python-dotenv-1.2.1\n"
     ]
    },
    {
     "name": "stderr",
     "output_type": "stream",
     "text": [
      "WARNING: Retrying (Retry(total=4, connect=None, read=None, redirect=None, status=None)) after connection broken by 'NewConnectionError('<pip._vendor.urllib3.connection.HTTPSConnection object at 0x000001FA8C1EB0E0>: Failed to establish a new connection: [Errno 11001] getaddrinfo failed')': /simple/langchain/\n",
      "WARNING: Retrying (Retry(total=3, connect=None, read=None, redirect=None, status=None)) after connection broken by 'NewConnectionError('<pip._vendor.urllib3.connection.HTTPSConnection object at 0x000001FA8C22A0D0>: Failed to establish a new connection: [Errno 11001] getaddrinfo failed')': /simple/langchain/\n",
      "WARNING: Retrying (Retry(total=2, connect=None, read=None, redirect=None, status=None)) after connection broken by 'NewConnectionError('<pip._vendor.urllib3.connection.HTTPSConnection object at 0x000001FA8C22A350>: Failed to establish a new connection: [Errno 11001] getaddrinfo failed')': /simple/langchain/\n",
      "WARNING: Retrying (Retry(total=1, connect=None, read=None, redirect=None, status=None)) after connection broken by 'NewConnectionError('<pip._vendor.urllib3.connection.HTTPSConnection object at 0x000001FA8C22A5D0>: Failed to establish a new connection: [Errno 11001] getaddrinfo failed')': /simple/langchain/\n",
      "\n",
      "[notice] A new release of pip is available: 25.2 -> 25.3\n",
      "[notice] To update, run: python.exe -m pip install --upgrade pip\n"
     ]
    }
   ],
   "source": [
    "# !pip install pinecone llama-index-vector-stores-pinecone llama-index-core llama-index-embeddings-huggingface -q\n",
    "# pip install -U llama-index-core llama-index-embeddings-huggingface\n",
    "!pip install -U langchain langchain-core langchain-openai langgraph python-dotenv openai pandas llama-index llama-index-vector-stores-pinecone llama-index-core llama-index-embeddings-huggingface llama-index-llms-groq\n",
    "\n"
   ]
  },
  {
   "cell_type": "markdown",
   "id": "e4a9d909",
   "metadata": {},
   "source": [
    "### Import the libraries"
   ]
  },
  {
   "cell_type": "code",
   "execution_count": 35,
   "id": "47a8dd66",
   "metadata": {},
   "outputs": [],
   "source": [
    "from llama_index.core import(\n",
    "    Settings, \n",
    "    VectorStoreIndex, \n",
    "    StorageContext,\n",
    "    SimpleDirectoryReader\n",
    ")\n",
    "from llama_index.embeddings.huggingface import HuggingFaceEmbedding\n",
    "from llama_index.llms.groq import Groq\n",
    "from llama_index.vector_stores.pinecone import PineconeVectorStore\n",
    "from pinecone import Pinecone, ServerlessSpec\n",
    "from dotenv import load_dotenv\n",
    "import os\n",
    "import time"
   ]
  },
  {
   "cell_type": "markdown",
   "id": "1cbf711d",
   "metadata": {},
   "source": [
    "### Initialize the APIs"
   ]
  },
  {
   "cell_type": "code",
   "execution_count": 36,
   "id": "a4dc99da",
   "metadata": {},
   "outputs": [],
   "source": [
    "# loading the .env file\n",
    "load_dotenv()\n",
    "\n",
    "# initializing Groq and Pinecone APIs\n",
    "GROQ_API_KEY = os.environ[\"GROQ_API_KEY\"]\n",
    "PINECONE_API_KEY = os.environ[\"PINECONE_API_KEY\"]\n",
    "\n",
    "pc = Pinecone(api_key = PINECONE_API_KEY)"
   ]
  },
  {
   "cell_type": "markdown",
   "id": "3ac7b837",
   "metadata": {},
   "source": [
    "### LLM and Embedding Model Configuration"
   ]
  },
  {
   "cell_type": "code",
   "execution_count": 37,
   "id": "4fd19cfd",
   "metadata": {},
   "outputs": [
    {
     "name": "stderr",
     "output_type": "stream",
     "text": [
      "2025-10-27 11:28:06,849 - INFO - Load pretrained SentenceTransformer: sentence-transformers/all-mpnet-base-v2\n"
     ]
    }
   ],
   "source": [
    "llm = Groq(model = \"llama-3.1-8b-instant\")\n",
    "embed_model = HuggingFaceEmbedding(model_name = \"sentence-transformers/all-mpnet-base-v2\")\n",
    "\n",
    "Settings.llm = llm\n",
    "Settings.embed_model = embed_model"
   ]
  },
  {
   "cell_type": "markdown",
   "id": "3923e2dc",
   "metadata": {},
   "source": [
    "### Pinecone Vector DB Creation"
   ]
  },
  {
   "cell_type": "code",
   "execution_count": 38,
   "id": "ead48cd1",
   "metadata": {},
   "outputs": [
    {
     "data": {
      "text/plain": [
       "{'dimension': 768,\n",
       " 'index_fullness': 0.0,\n",
       " 'metric': 'cosine',\n",
       " 'namespaces': {'': {'vector_count': 44}},\n",
       " 'total_vector_count': 44,\n",
       " 'vector_type': 'dense'}"
      ]
     },
     "execution_count": 38,
     "metadata": {},
     "output_type": "execute_result"
    }
   ],
   "source": [
    "# setting index_name\n",
    "index_name = \"llama3-groq-pinecone\"\n",
    "\n",
    "# checking existing indexes\n",
    "existing_indexes = [\n",
    "    index_info[\"name\"] for index_info in pc.list_indexes()\n",
    "]\n",
    "\n",
    "# creating an index if it doesn't exists\n",
    "if index_name not in existing_indexes: \n",
    "    pc.create_index(\n",
    "        name = index_name, \n",
    "        dimension = 768, \n",
    "        metric = \"cosine\", \n",
    "        spec = ServerlessSpec(\n",
    "                cloud = \"aws\", \n",
    "                region = \"us-east-1\"\n",
    "        )\n",
    "    )\n",
    "\n",
    "# connecting to the created index\n",
    "index = pc.Index(index_name)\n",
    "time.sleep(1)\n",
    "\n",
    "# describing index statistics\n",
    "index.describe_index_stats()\n",
    "\n"
   ]
  },
  {
   "cell_type": "markdown",
   "id": "467e611b",
   "metadata": {},
   "source": [
    "### Loading the data"
   ]
  },
  {
   "cell_type": "code",
   "execution_count": 39,
   "id": "25549970",
   "metadata": {},
   "outputs": [],
   "source": [
    "documents = documents = SimpleDirectoryReader(\"store_offers_data\").load_data()"
   ]
  },
  {
   "cell_type": "markdown",
   "id": "595fa44d",
   "metadata": {},
   "source": [
    "### Using Pinecone Vector Store"
   ]
  },
  {
   "cell_type": "code",
   "execution_count": 40,
   "id": "619fb07b",
   "metadata": {},
   "outputs": [
    {
     "name": "stderr",
     "output_type": "stream",
     "text": [
      "Upserted vectors: 100%|██████████| 6/6 [00:01<00:00,  3.76it/s]\n"
     ]
    }
   ],
   "source": [
    "vector_store = PineconeVectorStore(pinecone_index = index)\n",
    "storage_context = StorageContext.from_defaults(vector_store = vector_store)\n",
    "index = VectorStoreIndex.from_documents(\n",
    "    documents, storage_context = storage_context\n",
    ")"
   ]
  },
  {
   "cell_type": "markdown",
   "id": "65f21c7c",
   "metadata": {},
   "source": [
    "### Querying the stored data"
   ]
  },
  {
   "cell_type": "code",
   "execution_count": 43,
   "id": "48fe0a20",
   "metadata": {},
   "outputs": [
    {
     "name": "stderr",
     "output_type": "stream",
     "text": [
      "2025-10-27 11:29:27,170 - INFO - HTTP Request: POST https://api.groq.com/openai/v1/chat/completions \"HTTP/1.1 200 OK\"\n"
     ]
    }
   ],
   "source": [
    "question = f\"Are there any offers in October for groceries, If yes tell me\"\n",
    "\n",
    "query_engine = index.as_query_engine()\n",
    "response = query_engine.query(f\"{question}\")"
   ]
  },
  {
   "cell_type": "code",
   "execution_count": 44,
   "id": "895033fc",
   "metadata": {},
   "outputs": [
    {
     "name": "stdout",
     "output_type": "stream",
     "text": [
      "Yes, there are offers in October for groceries. \n",
      "\n",
      "The Autumn Harvest Festival is available from October 1 to October 31, offering up to 15% off select products. The Harvest Your Favorites promotion is available from October 15 to November 15, offering 10% off when you mix and match your favorite harvest snacks. The Savor the Season Sale is available from October 25 to November 10, offering the deliciousness of FrostyHarvest Seasonal Comfort Soup Mix and AutumnHarvest Crisp Apples.\n"
     ]
    }
   ],
   "source": [
    "print(response)"
   ]
  },
  {
   "cell_type": "code",
   "execution_count": null,
   "id": "a00a72f6",
   "metadata": {},
   "outputs": [],
   "source": [
    "\n"
   ]
  },
  {
   "cell_type": "code",
   "execution_count": null,
   "id": "6b57cdce",
   "metadata": {},
   "outputs": [],
   "source": []
  }
 ],
 "metadata": {
  "kernelspec": {
   "display_name": "ma_env",
   "language": "python",
   "name": "python3"
  },
  "language_info": {
   "codemirror_mode": {
    "name": "ipython",
    "version": 3
   },
   "file_extension": ".py",
   "mimetype": "text/x-python",
   "name": "python",
   "nbconvert_exporter": "python",
   "pygments_lexer": "ipython3",
   "version": "3.13.9"
  }
 },
 "nbformat": 4,
 "nbformat_minor": 5
}
